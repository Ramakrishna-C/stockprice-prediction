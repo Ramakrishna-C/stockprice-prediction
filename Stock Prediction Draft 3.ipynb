{
 "cells": [
  {
   "cell_type": "code",
   "execution_count": 1,
   "id": "a33a1f56",
   "metadata": {},
   "outputs": [],
   "source": [
    "import helper\n",
    "import pandas as pd\n",
    "from utils import *\n",
    "\n",
    "import time\n",
    "import numpy as np\n",
    "import math\n",
    "import matplotlib.pyplot as plt\n",
    "\n",
    "import torch\n",
    "from torch.utils.data import DataLoader\n",
    "from torch import nn\n",
    "\n",
    "from IPython.display import Image\n"
   ]
  },
  {
   "cell_type": "markdown",
   "id": "0dce35c5",
   "metadata": {},
   "source": [
    "# Introduction"
   ]
  },
  {
   "cell_type": "markdown",
   "id": "9eb7a535",
   "metadata": {},
   "source": [
    "Stock price prediction is one of the most rewarding problems in modern finance, where the accurate forecasting of future stock prices can yield significant profit and reduce the risks. LSTM (Long Short-Term Memory) is a recurrent Neural Network (RNN) applicable to a broad range of problems aiming to analyze or classify sequential data. Therefore, many people have used LSTM to predict the future stock price based on the historical data sequences with great success.\n",
    "\n",
    "On the other hand, recent studies have shown that the LSTM's efficiency and trainability can be improved by replacing some of the layers in the LSTM with variational quantum layers, thus making it a quantum-classical hybrid model of LSTM which we will call QLSTM for Quantum LSTM. In the study done by Samuel Yen-Chi Chen, Shinjae Yoo, and Yao-Lung L. Fang, they show that QLSTM offers better trainability compared to its classical counterpart as it proved to learn significantly more information after the first training epoch than its classical counterpart, learnt the local features better, all while having a comparable number of parameters. Inspired by these recent results, we proceed to test this variational quantum-classical hybrid neural network technique on stock price predictions. \n",
    "\n",
    "In the following notebook, we show a proof of concept that QLSTM can be used to great effect for stock price prediction, offering comparable and arguably better results than its classical counterpart. To do so, we implement both LSTM and QLSTM to predict the stock prices of the company Merck & Co. Inc (MRK) with the same number of features, of which we chose based on earlier studies done with stock price predictions."
   ]
  },
  {
   "cell_type": "markdown",
   "id": "922097fa",
   "metadata": {},
   "source": [
    "This submission was motivated by a combination of a few separate studies:\n",
    "\n",
    "Stock price prediction use BERT and GAN: https://arxiv.org/pdf/2107.09055.pdf, Priyank Sonkiya, Vikas Bajpai, Anukriti Bansal <br>\n",
    "Quantum Long Short-Term Memory: https://arxiv.org/pdf/2009.01783.pdf, Samuel Yen-Chi Chen, Shinjae Yoo, and Yao-Lung L. Fang <br>\n",
    "\n",
    "With code and ideas reused and repurposed from the following sources:\n",
    "\n",
    "Example of a QLSTM: https://github.com/rdisipio/qlstm, Riccardo Di Sipio <br>\n",
    "How to use PyTorch LSTMs for time series regression: https://www.crosstab.io/articles/time-series-pytorch-lstm, Brian Kent <br>\n",
    "Using GANs to predict stock price movement: https://towardsdatascience.com/aifortrading-2edd6fac689d, Boris Banushev<br>"
   ]
  },
  {
   "cell_type": "markdown",
   "id": "696bb7d7",
   "metadata": {},
   "source": [
    "## Brief Outline"
   ]
  },
  {
   "cell_type": "markdown",
   "id": "4e301a55",
   "metadata": {},
   "source": [
    "To demonstrate the use of QLSTM for stock prediction, we use the stock prices of the company Merck & Co. Inc (MRK). The notebook will proceed in the following manner:\n",
    "\n",
    "1. Brief description of Data\n",
    "2. Using Classical LSTM to perform stock price prediction\n",
    "3. Defining QLSTM and using it to perform stock price prediction\n",
    "4. Comparison between LSTM and QLSTM\n",
    "\n",
    "Note that for the LSTM, we would be using PyTorch; while for the QLSTM we would be using PyTorch and Pennylane. "
   ]
  },
  {
   "cell_type": "markdown",
   "id": "8dcf2258",
   "metadata": {},
   "source": [
    "# Data"
   ]
  },
  {
   "cell_type": "markdown",
   "id": "841734de",
   "metadata": {},
   "source": [
    "Data Description: We have collected the historical data of the MRK stock prices, of which we focus on the closing price. Our goal is then to forecast the closing stock prices of MRK using LSTM (or QLSTM). \n",
    "\n",
    "To achieve this goal, we have collected the following necessary data and information. This includes the following:\n",
    "\n",
    "- Technical indicators\n",
    "- Trend approximations (Fourier Transforms)\n",
    "- ARIMA \n",
    "- Correlated assets\n",
    "- Sentimental analysis\n",
    "\n",
    "While interesting and important in its own right, we have decided not to go into detail for the data collection in this notebook. For more information, please go take a look at the Data Collection notebook also in this Github. \n",
    "\n",
    "In this section, our goal is to process the data necessary for the LSTM and QLSTM."
   ]
  },
  {
   "cell_type": "markdown",
   "id": "3b37e1ea",
   "metadata": {},
   "source": [
    "First, we read in the data, dropping the index and the date."
   ]
  },
  {
   "cell_type": "code",
   "execution_count": 2,
   "id": "31c36071",
   "metadata": {},
   "outputs": [
    {
     "data": {
      "text/html": [
       "<div>\n",
       "<style scoped>\n",
       "    .dataframe tbody tr th:only-of-type {\n",
       "        vertical-align: middle;\n",
       "    }\n",
       "\n",
       "    .dataframe tbody tr th {\n",
       "        vertical-align: top;\n",
       "    }\n",
       "\n",
       "    .dataframe thead th {\n",
       "        text-align: right;\n",
       "    }\n",
       "</style>\n",
       "<table border=\"1\" class=\"dataframe\">\n",
       "  <thead>\n",
       "    <tr style=\"text-align: right;\">\n",
       "      <th></th>\n",
       "      <th>Close</th>\n",
       "      <th>Volume</th>\n",
       "      <th>ma7</th>\n",
       "      <th>ma21</th>\n",
       "      <th>26ema</th>\n",
       "      <th>12ema</th>\n",
       "      <th>MACD</th>\n",
       "      <th>20sd</th>\n",
       "      <th>upper_band</th>\n",
       "      <th>lower_band</th>\n",
       "      <th>...</th>\n",
       "      <th>GSK</th>\n",
       "      <th>LLY</th>\n",
       "      <th>NVS</th>\n",
       "      <th>NYSE</th>\n",
       "      <th>NASDAQ</th>\n",
       "      <th>FT3</th>\n",
       "      <th>FT6</th>\n",
       "      <th>FT9</th>\n",
       "      <th>ARIMA</th>\n",
       "      <th>Close_lead1</th>\n",
       "    </tr>\n",
       "  </thead>\n",
       "  <tbody>\n",
       "    <tr>\n",
       "      <th>0</th>\n",
       "      <td>31.011450</td>\n",
       "      <td>14227229</td>\n",
       "      <td>30.050436</td>\n",
       "      <td>29.200291</td>\n",
       "      <td>29.514006</td>\n",
       "      <td>29.867322</td>\n",
       "      <td>0.353316</td>\n",
       "      <td>0.835852</td>\n",
       "      <td>30.871996</td>\n",
       "      <td>27.528586</td>\n",
       "      <td>...</td>\n",
       "      <td>20.441219</td>\n",
       "      <td>22.546120</td>\n",
       "      <td>26.214659</td>\n",
       "      <td>6671.140137</td>\n",
       "      <td>2017.979980</td>\n",
       "      <td>55.454947</td>\n",
       "      <td>50.337802</td>\n",
       "      <td>47.947327</td>\n",
       "      <td>31.011450</td>\n",
       "      <td>31.440840</td>\n",
       "    </tr>\n",
       "    <tr>\n",
       "      <th>1</th>\n",
       "      <td>31.440840</td>\n",
       "      <td>20081566</td>\n",
       "      <td>30.318975</td>\n",
       "      <td>29.299346</td>\n",
       "      <td>29.688906</td>\n",
       "      <td>30.115697</td>\n",
       "      <td>0.426791</td>\n",
       "      <td>0.963549</td>\n",
       "      <td>31.226444</td>\n",
       "      <td>27.372247</td>\n",
       "      <td>...</td>\n",
       "      <td>20.290920</td>\n",
       "      <td>22.639698</td>\n",
       "      <td>26.532934</td>\n",
       "      <td>6697.220215</td>\n",
       "      <td>2024.229980</td>\n",
       "      <td>55.359252</td>\n",
       "      <td>50.140845</td>\n",
       "      <td>47.659130</td>\n",
       "      <td>31.440840</td>\n",
       "      <td>31.183207</td>\n",
       "    </tr>\n",
       "    <tr>\n",
       "      <th>2</th>\n",
       "      <td>31.183207</td>\n",
       "      <td>10438080</td>\n",
       "      <td>30.564340</td>\n",
       "      <td>29.420211</td>\n",
       "      <td>29.822316</td>\n",
       "      <td>30.283528</td>\n",
       "      <td>0.461212</td>\n",
       "      <td>1.026446</td>\n",
       "      <td>31.473102</td>\n",
       "      <td>27.367319</td>\n",
       "      <td>...</td>\n",
       "      <td>20.280550</td>\n",
       "      <td>22.492653</td>\n",
       "      <td>26.608170</td>\n",
       "      <td>6687.939941</td>\n",
       "      <td>2024.430054</td>\n",
       "      <td>55.263482</td>\n",
       "      <td>49.944470</td>\n",
       "      <td>47.372320</td>\n",
       "      <td>31.183207</td>\n",
       "      <td>31.364504</td>\n",
       "    </tr>\n",
       "    <tr>\n",
       "      <th>3</th>\n",
       "      <td>31.364504</td>\n",
       "      <td>10302154</td>\n",
       "      <td>30.858779</td>\n",
       "      <td>29.556525</td>\n",
       "      <td>29.957940</td>\n",
       "      <td>30.452906</td>\n",
       "      <td>0.494965</td>\n",
       "      <td>1.086420</td>\n",
       "      <td>31.729366</td>\n",
       "      <td>27.383684</td>\n",
       "      <td>...</td>\n",
       "      <td>20.513784</td>\n",
       "      <td>22.800129</td>\n",
       "      <td>26.984316</td>\n",
       "      <td>6722.310059</td>\n",
       "      <td>2027.729980</td>\n",
       "      <td>55.167638</td>\n",
       "      <td>49.748691</td>\n",
       "      <td>47.086936</td>\n",
       "      <td>31.364504</td>\n",
       "      <td>30.839695</td>\n",
       "    </tr>\n",
       "    <tr>\n",
       "      <th>4</th>\n",
       "      <td>30.839695</td>\n",
       "      <td>12640452</td>\n",
       "      <td>30.973283</td>\n",
       "      <td>29.664667</td>\n",
       "      <td>30.034423</td>\n",
       "      <td>30.513340</td>\n",
       "      <td>0.478916</td>\n",
       "      <td>1.094567</td>\n",
       "      <td>31.853801</td>\n",
       "      <td>27.475534</td>\n",
       "      <td>...</td>\n",
       "      <td>20.285738</td>\n",
       "      <td>22.459227</td>\n",
       "      <td>26.857002</td>\n",
       "      <td>6709.040039</td>\n",
       "      <td>2028.770020</td>\n",
       "      <td>55.071723</td>\n",
       "      <td>49.553518</td>\n",
       "      <td>46.803017</td>\n",
       "      <td>30.839695</td>\n",
       "      <td>30.944656</td>\n",
       "    </tr>\n",
       "    <tr>\n",
       "      <th>...</th>\n",
       "      <td>...</td>\n",
       "      <td>...</td>\n",
       "      <td>...</td>\n",
       "      <td>...</td>\n",
       "      <td>...</td>\n",
       "      <td>...</td>\n",
       "      <td>...</td>\n",
       "      <td>...</td>\n",
       "      <td>...</td>\n",
       "      <td>...</td>\n",
       "      <td>...</td>\n",
       "      <td>...</td>\n",
       "      <td>...</td>\n",
       "      <td>...</td>\n",
       "      <td>...</td>\n",
       "      <td>...</td>\n",
       "      <td>...</td>\n",
       "      <td>...</td>\n",
       "      <td>...</td>\n",
       "      <td>...</td>\n",
       "      <td>...</td>\n",
       "    </tr>\n",
       "    <tr>\n",
       "      <th>2712</th>\n",
       "      <td>78.301529</td>\n",
       "      <td>13675457</td>\n",
       "      <td>75.931026</td>\n",
       "      <td>74.702836</td>\n",
       "      <td>75.305196</td>\n",
       "      <td>75.725497</td>\n",
       "      <td>0.420300</td>\n",
       "      <td>1.705192</td>\n",
       "      <td>78.113220</td>\n",
       "      <td>71.292452</td>\n",
       "      <td>...</td>\n",
       "      <td>38.856968</td>\n",
       "      <td>148.141144</td>\n",
       "      <td>82.393753</td>\n",
       "      <td>12302.190430</td>\n",
       "      <td>9682.910156</td>\n",
       "      <td>57.910147</td>\n",
       "      <td>55.622779</td>\n",
       "      <td>55.790021</td>\n",
       "      <td>76.887436</td>\n",
       "      <td>77.814888</td>\n",
       "    </tr>\n",
       "    <tr>\n",
       "      <th>2713</th>\n",
       "      <td>77.814888</td>\n",
       "      <td>9292930</td>\n",
       "      <td>76.515814</td>\n",
       "      <td>74.863687</td>\n",
       "      <td>75.491099</td>\n",
       "      <td>76.046941</td>\n",
       "      <td>0.555842</td>\n",
       "      <td>1.816324</td>\n",
       "      <td>78.496336</td>\n",
       "      <td>71.231038</td>\n",
       "      <td>...</td>\n",
       "      <td>38.423382</td>\n",
       "      <td>146.373550</td>\n",
       "      <td>81.836136</td>\n",
       "      <td>12286.980469</td>\n",
       "      <td>9615.809570</td>\n",
       "      <td>57.817099</td>\n",
       "      <td>55.415062</td>\n",
       "      <td>55.480641</td>\n",
       "      <td>78.191500</td>\n",
       "      <td>78.492363</td>\n",
       "    </tr>\n",
       "    <tr>\n",
       "      <th>2714</th>\n",
       "      <td>78.492363</td>\n",
       "      <td>10413347</td>\n",
       "      <td>77.157852</td>\n",
       "      <td>75.097238</td>\n",
       "      <td>75.713415</td>\n",
       "      <td>76.423160</td>\n",
       "      <td>0.709745</td>\n",
       "      <td>1.857931</td>\n",
       "      <td>78.813100</td>\n",
       "      <td>71.381377</td>\n",
       "      <td>...</td>\n",
       "      <td>38.469505</td>\n",
       "      <td>144.916718</td>\n",
       "      <td>82.576424</td>\n",
       "      <td>12641.440430</td>\n",
       "      <td>9814.080078</td>\n",
       "      <td>57.723926</td>\n",
       "      <td>55.207594</td>\n",
       "      <td>55.171523</td>\n",
       "      <td>77.972240</td>\n",
       "      <td>79.103050</td>\n",
       "    </tr>\n",
       "    <tr>\n",
       "      <th>2715</th>\n",
       "      <td>79.103050</td>\n",
       "      <td>9956838</td>\n",
       "      <td>77.684024</td>\n",
       "      <td>75.428935</td>\n",
       "      <td>75.964499</td>\n",
       "      <td>76.835451</td>\n",
       "      <td>0.870952</td>\n",
       "      <td>1.960788</td>\n",
       "      <td>79.350511</td>\n",
       "      <td>71.507360</td>\n",
       "      <td>...</td>\n",
       "      <td>39.087601</td>\n",
       "      <td>144.916718</td>\n",
       "      <td>82.364914</td>\n",
       "      <td>12836.599609</td>\n",
       "      <td>9924.750000</td>\n",
       "      <td>57.630627</td>\n",
       "      <td>55.000389</td>\n",
       "      <td>54.862711</td>\n",
       "      <td>78.309688</td>\n",
       "      <td>78.492363</td>\n",
       "    </tr>\n",
       "    <tr>\n",
       "      <th>2716</th>\n",
       "      <td>78.492363</td>\n",
       "      <td>8846168</td>\n",
       "      <td>77.893947</td>\n",
       "      <td>75.695202</td>\n",
       "      <td>76.151748</td>\n",
       "      <td>77.090360</td>\n",
       "      <td>0.938612</td>\n",
       "      <td>2.043482</td>\n",
       "      <td>79.782166</td>\n",
       "      <td>71.608238</td>\n",
       "      <td>...</td>\n",
       "      <td>38.635563</td>\n",
       "      <td>144.839020</td>\n",
       "      <td>85.018433</td>\n",
       "      <td>12619.519531</td>\n",
       "      <td>9953.750000</td>\n",
       "      <td>57.537207</td>\n",
       "      <td>54.793461</td>\n",
       "      <td>54.554253</td>\n",
       "      <td>79.039159</td>\n",
       "      <td>78.024811</td>\n",
       "    </tr>\n",
       "  </tbody>\n",
       "</table>\n",
       "<p>2717 rows × 34 columns</p>\n",
       "</div>"
      ],
      "text/plain": [
       "          Close    Volume        ma7       ma21      26ema      12ema  \\\n",
       "0     31.011450  14227229  30.050436  29.200291  29.514006  29.867322   \n",
       "1     31.440840  20081566  30.318975  29.299346  29.688906  30.115697   \n",
       "2     31.183207  10438080  30.564340  29.420211  29.822316  30.283528   \n",
       "3     31.364504  10302154  30.858779  29.556525  29.957940  30.452906   \n",
       "4     30.839695  12640452  30.973283  29.664667  30.034423  30.513340   \n",
       "...         ...       ...        ...        ...        ...        ...   \n",
       "2712  78.301529  13675457  75.931026  74.702836  75.305196  75.725497   \n",
       "2713  77.814888   9292930  76.515814  74.863687  75.491099  76.046941   \n",
       "2714  78.492363  10413347  77.157852  75.097238  75.713415  76.423160   \n",
       "2715  79.103050   9956838  77.684024  75.428935  75.964499  76.835451   \n",
       "2716  78.492363   8846168  77.893947  75.695202  76.151748  77.090360   \n",
       "\n",
       "          MACD      20sd  upper_band  lower_band  ...        GSK         LLY  \\\n",
       "0     0.353316  0.835852   30.871996   27.528586  ...  20.441219   22.546120   \n",
       "1     0.426791  0.963549   31.226444   27.372247  ...  20.290920   22.639698   \n",
       "2     0.461212  1.026446   31.473102   27.367319  ...  20.280550   22.492653   \n",
       "3     0.494965  1.086420   31.729366   27.383684  ...  20.513784   22.800129   \n",
       "4     0.478916  1.094567   31.853801   27.475534  ...  20.285738   22.459227   \n",
       "...        ...       ...         ...         ...  ...        ...         ...   \n",
       "2712  0.420300  1.705192   78.113220   71.292452  ...  38.856968  148.141144   \n",
       "2713  0.555842  1.816324   78.496336   71.231038  ...  38.423382  146.373550   \n",
       "2714  0.709745  1.857931   78.813100   71.381377  ...  38.469505  144.916718   \n",
       "2715  0.870952  1.960788   79.350511   71.507360  ...  39.087601  144.916718   \n",
       "2716  0.938612  2.043482   79.782166   71.608238  ...  38.635563  144.839020   \n",
       "\n",
       "            NVS          NYSE       NASDAQ        FT3        FT6        FT9  \\\n",
       "0     26.214659   6671.140137  2017.979980  55.454947  50.337802  47.947327   \n",
       "1     26.532934   6697.220215  2024.229980  55.359252  50.140845  47.659130   \n",
       "2     26.608170   6687.939941  2024.430054  55.263482  49.944470  47.372320   \n",
       "3     26.984316   6722.310059  2027.729980  55.167638  49.748691  47.086936   \n",
       "4     26.857002   6709.040039  2028.770020  55.071723  49.553518  46.803017   \n",
       "...         ...           ...          ...        ...        ...        ...   \n",
       "2712  82.393753  12302.190430  9682.910156  57.910147  55.622779  55.790021   \n",
       "2713  81.836136  12286.980469  9615.809570  57.817099  55.415062  55.480641   \n",
       "2714  82.576424  12641.440430  9814.080078  57.723926  55.207594  55.171523   \n",
       "2715  82.364914  12836.599609  9924.750000  57.630627  55.000389  54.862711   \n",
       "2716  85.018433  12619.519531  9953.750000  57.537207  54.793461  54.554253   \n",
       "\n",
       "          ARIMA  Close_lead1  \n",
       "0     31.011450    31.440840  \n",
       "1     31.440840    31.183207  \n",
       "2     31.183207    31.364504  \n",
       "3     31.364504    30.839695  \n",
       "4     30.839695    30.944656  \n",
       "...         ...          ...  \n",
       "2712  76.887436    77.814888  \n",
       "2713  78.191500    78.492363  \n",
       "2714  77.972240    79.103050  \n",
       "2715  78.309688    78.492363  \n",
       "2716  79.039159    78.024811  \n",
       "\n",
       "[2717 rows x 34 columns]"
      ]
     },
     "execution_count": 2,
     "metadata": {},
     "output_type": "execute_result"
    }
   ],
   "source": [
    "df = pd.read_csv('dataset_MRK_prediction.csv')\n",
    "df = df.drop(['Date' ,'Unnamed: 0'], axis=1)\n",
    "df"
   ]
  },
  {
   "cell_type": "markdown",
   "id": "4aaa9b52",
   "metadata": {},
   "source": [
    "We identify the dependent and independent variables:"
   ]
  },
  {
   "cell_type": "code",
   "execution_count": 3,
   "id": "d53abe07",
   "metadata": {},
   "outputs": [],
   "source": [
    "target = \"Close_lead1\""
   ]
  },
  {
   "cell_type": "code",
   "execution_count": 4,
   "id": "a8cedb86",
   "metadata": {},
   "outputs": [
    {
     "data": {
      "text/plain": [
       "['12ema',\n",
       " '20sd',\n",
       " '26ema',\n",
       " 'AMGN',\n",
       " 'ARIMA',\n",
       " 'BMY',\n",
       " 'FT3',\n",
       " 'FT6',\n",
       " 'FT9',\n",
       " 'GSK',\n",
       " 'JNJ',\n",
       " 'LLY',\n",
       " 'MACD',\n",
       " 'NASDAQ',\n",
       " 'NVS',\n",
       " 'NYSE',\n",
       " 'PFE',\n",
       " 'SNP',\n",
       " 'SNY',\n",
       " 'VTRS',\n",
       " 'VZ',\n",
       " 'Volume',\n",
       " 'ema',\n",
       " 'log_momentum',\n",
       " 'lower_band',\n",
       " 'ma21',\n",
       " 'ma7',\n",
       " 'momentum',\n",
       " 'neg',\n",
       " 'neu',\n",
       " 'pos',\n",
       " 'upper_band']"
      ]
     },
     "execution_count": 4,
     "metadata": {},
     "output_type": "execute_result"
    }
   ],
   "source": [
    "features = list(df.columns.difference([\"Close\", 'Close_lead1']))\n",
    "features"
   ]
  },
  {
   "cell_type": "markdown",
   "id": "a65613d0",
   "metadata": {},
   "source": [
    "## Data Processing"
   ]
  },
  {
   "cell_type": "markdown",
   "id": "0c7baf43",
   "metadata": {},
   "source": [
    "To process the data, we first split it into training and test data, where two-thirds of the data is used for training, and the last third is used for testing."
   ]
  },
  {
   "cell_type": "code",
   "execution_count": 5,
   "id": "465d24a1",
   "metadata": {},
   "outputs": [],
   "source": [
    "size = int(len(df) * 0.67)\n",
    "\n",
    "df_train = df.loc[:size].copy()\n",
    "df_test = df.loc[size:].copy()"
   ]
  },
  {
   "cell_type": "markdown",
   "id": "dc621071",
   "metadata": {},
   "source": [
    "Next, in order to ensure that some values due to their mangnitude do not inherently dominate the features, we standardize their values."
   ]
  },
  {
   "cell_type": "code",
   "execution_count": 6,
   "id": "bff7d289",
   "metadata": {},
   "outputs": [],
   "source": [
    "target_mean = df_train[target].mean()\n",
    "target_stdev = df_train[target].std()\n",
    "\n",
    "for c in df_train.columns:\n",
    "    mean = df_train[c].mean()\n",
    "    stdev = df_train[c].std()\n",
    "\n",
    "    df_train[c] = (df_train[c] - mean) / stdev\n",
    "    df_test[c] = (df_test[c] - mean) / stdev"
   ]
  },
  {
   "cell_type": "code",
   "execution_count": 7,
   "id": "134bb0c2",
   "metadata": {},
   "outputs": [],
   "source": [
    "from Factory import SequenceDataset"
   ]
  },
  {
   "cell_type": "markdown",
   "id": "6e9b59fe",
   "metadata": {},
   "source": [
    "Finally, the last step in the data processing to prepare for LSTM is to prepare the data in a sequence of past observations. Preparation of the LSTM on time series data means that it uses a certain number of past observations to predict the future. In this case, the sequence length decides how many days the LSTM considers in advance. If the sequence length is $n$, then the LSTM considers the last $n$ observations to predict the $n+1$th day.\n",
    "\n",
    "We decided the sequence length as 3 for purposes of this notebook."
   ]
  },
  {
   "cell_type": "code",
   "execution_count": 8,
   "id": "3029e88d",
   "metadata": {},
   "outputs": [
    {
     "name": "stdout",
     "output_type": "stream",
     "text": [
      "Features shape: torch.Size([1, 3, 32])\n",
      "Target shape: torch.Size([1])\n"
     ]
    }
   ],
   "source": [
    "torch.manual_seed(101)\n",
    "\n",
    "batch_size = 1\n",
    "sequence_length = 3\n",
    "\n",
    "train_dataset = SequenceDataset(\n",
    "    df_train,\n",
    "    target=target,\n",
    "    features=features,\n",
    "    sequence_length=sequence_length\n",
    ")\n",
    "test_dataset = SequenceDataset(\n",
    "    df_test,\n",
    "    target=target,\n",
    "    features=features,\n",
    "    sequence_length=sequence_length\n",
    ")\n",
    "\n",
    "train_loader = DataLoader(train_dataset, batch_size=batch_size, shuffle=True)\n",
    "test_loader = DataLoader(test_dataset, batch_size=batch_size, shuffle=False)\n",
    "\n",
    "X, y = next(iter(train_loader))\n",
    "\n",
    "print(\"Features shape:\", X.shape)\n",
    "print(\"Target shape:\", y.shape)"
   ]
  },
  {
   "cell_type": "markdown",
   "id": "245af1d7",
   "metadata": {},
   "source": [
    "# Classical LSTM"
   ]
  },
  {
   "cell_type": "markdown",
   "id": "50a784bc",
   "metadata": {},
   "source": [
    "We first define two functions:\n",
    "    \n",
    "- train_model: function to train the model based on the batches of data\n",
    "- test_model: function to test the model on the testing data\n",
    "    \n",
    "We print the loss at the end to understand how the model is performing with regards to the data."
   ]
  },
  {
   "cell_type": "code",
   "execution_count": 9,
   "id": "dbe496cd",
   "metadata": {},
   "outputs": [],
   "source": [
    "def train_model(data_loader, model, loss_function, optimizer):\n",
    "    num_batches = len(data_loader)\n",
    "    total_loss = 0\n",
    "    model.train()\n",
    "    \n",
    "    for X, y in data_loader:\n",
    "        output = model(X)\n",
    "        loss = loss_function(output, y)\n",
    "\n",
    "        optimizer.zero_grad()\n",
    "        loss.backward()\n",
    "        optimizer.step()\n",
    "\n",
    "        total_loss += loss.item()\n",
    "\n",
    "    avg_loss = total_loss / num_batches\n",
    "    print(f\"Train loss: {avg_loss}\")\n",
    "    return avg_loss\n",
    "\n",
    "def test_model(data_loader, model, loss_function):\n",
    "    \n",
    "    num_batches = len(data_loader)\n",
    "    total_loss = 0\n",
    "\n",
    "    model.eval()\n",
    "    with torch.no_grad():\n",
    "        for X, y in data_loader:\n",
    "            output = model(X)\n",
    "            total_loss += loss_function(output, y).item()\n",
    "\n",
    "    avg_loss = total_loss / num_batches\n",
    "    print(f\"Test loss: {avg_loss}\")\n",
    "    return avg_loss"
   ]
  },
  {
   "cell_type": "markdown",
   "id": "8dd5d66a",
   "metadata": {},
   "source": [
    "## Running the Classical LSTM"
   ]
  },
  {
   "cell_type": "markdown",
   "id": "8dd7aabb",
   "metadata": {},
   "source": [
    "To understand our implementation of QLSTM, we first explain our implementation LSTM. LSTM follows the following structure:\n",
    "\n",
    "<img src=\"lstm2.jpg\" alt=\"drawing\" width=\"400\"/>\n",
    "\n",
    "Image taken from: Quantum Long Short-Term Memory, https://arxiv.org/pdf/2009.01783.pdf (Samuel Yen-Chi Chen, Shinjae Yoo, and Yao-Lung L. Fang (2020)) \n",
    "\n",
    "Simply put, LSTM uses 4 neural network layers in each LSTM cell. They are:\n",
    "\n",
    "- Forget layer\n",
    "- Input layer\n",
    "- Update layer\n",
    "- Output layer\n",
    "\n",
    "We can see the corresponding layers in the W cells in the picture above. We will be skipping the technical details, but it is important to note that these 4 layers are the keys to building an LSTM neural network model that we can train and eventually use to predict. They usually take the form of a normal NN layer (like a linear layer with reLU or convolutional layers).\n",
    "\n",
    "LSTMs are well studied, and there is a native implementation of it in PyTorch to begin with, so we use a slightly modified version of it for the time series LSTM that we perform here. The code for the time series LSTM was reused from:\n",
    "\n",
    "How to use PyTorch LSTMs for time series regression: https://www.crosstab.io/articles/time-series-pytorch-lstm, Brian Kent.\n",
    "\n",
    "In the following code, we train LSTM to predict future stock prices, and then test it on the test dataset. The learning rate of 0.0001 was decided after some experimentation, where we chose the learning rate that gave accurate results. The number of epochs we use is 20, by which it would have converged and thus would suffice for the purposes of this notebook. After that, we visualize three different graphs: the comparison between the real stock prices and the ones given by the model; and the evolution of test loss and training loss by epoch."
   ]
  },
  {
   "cell_type": "code",
   "execution_count": 10,
   "id": "1b0568ab",
   "metadata": {},
   "outputs": [],
   "source": [
    "from Factory import ShallowRegressionLSTM"
   ]
  },
  {
   "cell_type": "code",
   "execution_count": 11,
   "id": "2a758f02",
   "metadata": {},
   "outputs": [],
   "source": [
    "learning_rate = 0.0001\n",
    "num_hidden_units = 16\n",
    "\n",
    "model = ShallowRegressionLSTM(num_sensors=len(features), hidden_units=num_hidden_units)\n",
    "loss_function = nn.MSELoss()\n",
    "optimizer = torch.optim.Adam(model.parameters(), lr=learning_rate)"
   ]
  },
  {
   "cell_type": "code",
   "execution_count": 12,
   "id": "5e2cdd9a",
   "metadata": {},
   "outputs": [
    {
     "name": "stdout",
     "output_type": "stream",
     "text": [
      "Untrained test\n",
      "--------\n",
      "Test loss: 8.610089948145442\n",
      "\n",
      "Epoch 0\n",
      "---------\n",
      "Train loss: 0.26532624034683294\n",
      "Test loss: 2.6338868914927716\n",
      "\n",
      "Epoch 1\n",
      "---------\n",
      "Train loss: 0.03469269386400278\n",
      "Test loss: 2.006117905782167\n",
      "\n",
      "Epoch 2\n",
      "---------\n",
      "Train loss: 0.017827948561038115\n",
      "Test loss: 1.7888867414367908\n",
      "\n",
      "Epoch 3\n",
      "---------\n",
      "Train loss: 0.011995089877132726\n",
      "Test loss: 1.614061121683431\n",
      "\n",
      "Epoch 4\n",
      "---------\n",
      "Train loss: 0.00945538427224977\n",
      "Test loss: 1.5142774181375414\n",
      "\n",
      "Epoch 5\n",
      "---------\n",
      "Train loss: 0.008296079606135773\n",
      "Test loss: 1.4813240397110907\n",
      "\n",
      "Epoch 6\n",
      "---------\n",
      "Train loss: 0.007585738064515137\n",
      "Test loss: 1.417895434040816\n",
      "\n",
      "Epoch 7\n",
      "---------\n",
      "Train loss: 0.007150696812582197\n",
      "Test loss: 1.4101453756885545\n",
      "\n",
      "Epoch 8\n",
      "---------\n",
      "Train loss: 0.00669386339186409\n",
      "Test loss: 1.3786947978804664\n",
      "\n",
      "Epoch 9\n",
      "---------\n",
      "Train loss: 0.0062523534248405035\n",
      "Test loss: 1.3218226207512411\n",
      "\n",
      "Epoch 10\n",
      "---------\n",
      "Train loss: 0.0060510072572731695\n",
      "Test loss: 1.304483597021529\n",
      "\n",
      "Epoch 11\n",
      "---------\n",
      "Train loss: 0.00573082018314931\n",
      "Test loss: 1.2836489803275084\n",
      "\n",
      "Epoch 12\n",
      "---------\n",
      "Train loss: 0.005584539141528851\n",
      "Test loss: 1.3152941239967013\n",
      "\n",
      "Epoch 13\n",
      "---------\n",
      "Train loss: 0.005422492283198348\n",
      "Test loss: 1.334120715403507\n",
      "\n",
      "Epoch 14\n",
      "---------\n",
      "Train loss: 0.005218930980502594\n",
      "Test loss: 1.2647966245598363\n",
      "\n",
      "Epoch 15\n",
      "---------\n",
      "Train loss: 0.00511988517748113\n",
      "Test loss: 1.2879873610355501\n",
      "\n",
      "Epoch 16\n",
      "---------\n",
      "Train loss: 0.0049823264187995025\n",
      "Test loss: 1.2895192222724694\n",
      "\n",
      "Epoch 17\n",
      "---------\n",
      "Train loss: 0.004836427647516408\n",
      "Test loss: 1.2247058059188742\n",
      "\n",
      "Epoch 18\n",
      "---------\n",
      "Train loss: 0.004717879470164242\n",
      "Test loss: 1.2934300064979234\n",
      "\n",
      "Epoch 19\n",
      "---------\n",
      "Train loss: 0.0046745954608540755\n",
      "Test loss: 1.2694097618098277\n",
      "\n"
     ]
    }
   ],
   "source": [
    "classical_loss_train = []\n",
    "classical_loss_test = []\n",
    "print(\"Untrained test\\n--------\")\n",
    "test_loss = test_model(test_loader, model, loss_function)\n",
    "print()\n",
    "classical_loss_test.append(test_loss)\n",
    "\n",
    "for ix_epoch in range(20):\n",
    "    print(f\"Epoch {ix_epoch}\\n---------\")\n",
    "    train_loss = train_model(train_loader, model, loss_function, optimizer=optimizer)\n",
    "    test_loss = test_model(test_loader, model, loss_function)\n",
    "    print()\n",
    "    classical_loss_train.append(train_loss)\n",
    "    classical_loss_test.append(test_loss)"
   ]
  },
  {
   "cell_type": "markdown",
   "id": "2f44945e",
   "metadata": {},
   "source": [
    "We then use the model to predict the test set, and then compare the results of the prediction to the real values."
   ]
  },
  {
   "cell_type": "code",
   "execution_count": 13,
   "id": "478ffa72",
   "metadata": {},
   "outputs": [],
   "source": [
    "def predict(data_loader, model):\n",
    "    \"\"\"Just like `test_loop` function but keep track of the outputs instead of the loss\n",
    "    function.\n",
    "    \"\"\"\n",
    "    output = torch.tensor([])\n",
    "    model.eval()\n",
    "    with torch.no_grad():\n",
    "        for X, _ in data_loader:\n",
    "            y_star = model(X)\n",
    "            output = torch.cat((output, y_star), 0)\n",
    "    \n",
    "    return output"
   ]
  },
  {
   "cell_type": "code",
   "execution_count": 14,
   "id": "58531cc4",
   "metadata": {},
   "outputs": [
    {
     "name": "stdout",
     "output_type": "stream",
     "text": [
      "      Close_lead1  Model forecast\n",
      "0       31.440840       30.972647\n",
      "1       31.183207       31.023441\n",
      "2       31.364504       31.186171\n",
      "3       30.839695       31.310280\n",
      "4       30.944656       31.142120\n",
      "...           ...             ...\n",
      "2712    77.814888       62.234993\n",
      "2713    78.492363       62.333565\n",
      "2714    79.103050       62.482479\n",
      "2715    78.492363       62.608040\n",
      "2716    78.024811       62.559753\n",
      "\n",
      "[2718 rows x 2 columns]\n"
     ]
    }
   ],
   "source": [
    "train_eval_loader = DataLoader(train_dataset, batch_size=batch_size, shuffle=False)\n",
    "\n",
    "ystar_col = \"Model forecast\"\n",
    "df_train[ystar_col] = predict(train_eval_loader, model).numpy()\n",
    "df_test[ystar_col] = predict(test_loader, model).numpy()\n",
    "\n",
    "df_out = pd.concat((df_train, df_test))[[target, ystar_col]]\n",
    "\n",
    "for c in df_out.columns:\n",
    "    df_out[c] = df_out[c] * target_stdev + target_mean\n",
    "\n",
    "print(df_out)"
   ]
  },
  {
   "cell_type": "code",
   "execution_count": 15,
   "id": "099ed8ce",
   "metadata": {},
   "outputs": [
    {
     "data": {
      "image/png": "[encoded data removed]",
      "text/plain": [
       "<Figure size 1200x700 with 1 Axes>"
      ]
     },
     "metadata": {},
     "output_type": "display_data"
    }
   ],
   "source": [
    "plt.figure(figsize=(12, 7))\n",
    "plt.plot(range(2718), df_out[\"Close_lead1\"], label = \"Real\")\n",
    "plt.plot(range(2718), df_out[\"Model forecast\"], label = \"LSTM Prediction\")\n",
    "plt.ylabel('Stock Price')\n",
    "plt.xlabel('Days')\n",
    "plt.vlines(size, ymin = 30, ymax = 90, label = \"Test set start\", linestyles = \"dashed\")\n",
    "plt.legend()\n",
    "plt.show()"
   ]
  },
  {
   "cell_type": "code",
   "execution_count": 16,
   "id": "ca40c7b3",
   "metadata": {},
   "outputs": [
    {
     "data": {
      "image/png": "[encoded data removed]",
      "text/plain": [
       "<Figure size 800x600 with 1 Axes>"
      ]
     },
     "metadata": {},
     "output_type": "display_data"
    }
   ],
   "source": [
    "plt.figure(figsize=(8, 6))\n",
    "plt.plot(range(21), classical_loss_test)\n",
    "plt.ylabel('Test Loss')\n",
    "plt.xlabel('Epoch')\n",
    "plt.show()"
   ]
  },
  {
   "cell_type": "code",
   "execution_count": 17,
   "id": "1b7e9df8",
   "metadata": {},
   "outputs": [
    {
     "data": {
      "image/png": "[encoded data removed]",
      "text/plain": [
       "<Figure size 800x600 with 1 Axes>"
      ]
     },
     "metadata": {},
     "output_type": "display_data"
    }
   ],
   "source": [
    "plt.figure(figsize=(8, 6))\n",
    "plt.plot(range(1, 21), classical_loss_train)\n",
    "plt.ylabel('Train Loss')\n",
    "plt.xlabel('Epoch')\n",
    "plt.show()"
   ]
  },
  {
   "cell_type": "markdown",
   "id": "11e1f720",
   "metadata": {},
   "source": [
    "# Running the QLSTM"
   ]
  },
  {
   "cell_type": "markdown",
   "id": "2f6f3a9e",
   "metadata": {},
   "source": [
    "To implement QLSTM, we then replace the 4 key layers of the LSTM with variational quantum layers enabled by Pennylane. The variational quantum layers are based on the following variational quantum circuits:\n",
    "\n",
    "<img src=\"vqc.jpg\" alt=\"drawing\" width=\"600\"/>\n",
    "\n",
    "Image taken from: Quantum Long Short-Term Memory, https://arxiv.org/pdf/2009.01783.pdf. By Samuel Yen-Chi Chen, Shinjae Yoo, and Yao-Lung L. Fang\n",
    "\n",
    "Thus, the parameters to be trained instead becomes the rotational parameters within the circuits, hence forming a hybrid quantum-classical neural network layer (as the optimizer is classical). In the paper on QLSTM, they show that the trainability of the QLSTM is better as \"learns significantly more information than the LSTM does right after the first training epoch, and its loss decreases more stably and faster than that of its classical counterpart\" (20). Thus, in this study, we hope to show that QLSTM has potential be more accurate and learn more per epoch than its classical counterpart. \n",
    "\n",
    "The code for the QLSTM was first taken from:\n",
    "\n",
    "Example of a QLSTM: https://github.com/rdisipio/qlstm, Riccardo Di Sipio <br>\n",
    "\n",
    "Although we have repurposed it and changed some of it to fit our purposes, for example to follow the variational quantum quantum circuits shown above. We also use the inbuilt Pennylane simulator to run these variational quantum circuits.\n",
    "\n",
    "In the following code, we proceed to train a QLSTM model to predict the stock prices of MRK stock, which will provide a proof of concept that QLSTM not only can be used for stock prices prediction, but also has advantages over its classical counterpart. The number of qubits we use is 4, the number of variational layers used is 1, and the learning rate is 0.05. For the number of qubits, we decided on that value as we wanted to show that it was possible even on a small number of qubits; while the latter 2 parameters were decided on by experimentation on a small number of epochs to see which gave the best results. After that, we proceed to see 3 different graphs that we saw in the classical example."
   ]
  },
  {
   "cell_type": "code",
   "execution_count": 18,
   "id": "307a49c5",
   "metadata": {},
   "outputs": [],
   "source": [
    "from Factory import QShallowRegressionLSTM"
   ]
  },
  {
   "cell_type": "code",
   "execution_count": 19,
   "id": "850bac7a",
   "metadata": {},
   "outputs": [
    {
     "name": "stdout",
     "output_type": "stream",
     "text": [
      "weight_shapes = (n_qlayers, n_vrotations, n_qubits) = (1, 3, 4)\n"
     ]
    }
   ],
   "source": [
    "learning_rate = 0.05\n",
    "num_hidden_units = 16\n",
    "\n",
    "Qmodel = QShallowRegressionLSTM(num_sensors=len(features), hidden_units=num_hidden_units, n_qubits=4)\n",
    "loss_function = nn.MSELoss()\n",
    "optimizer = torch.optim.Adagrad(Qmodel.parameters(), lr=learning_rate)"
   ]
  },
  {
   "cell_type": "code",
   "execution_count": 20,
   "id": "02505957",
   "metadata": {},
   "outputs": [
    {
     "name": "stdout",
     "output_type": "stream",
     "text": [
      "Untrained test\n",
      "--------\n"
     ]
    },
    {
     "ename": "IndexError",
     "evalue": "list index out of range",
     "output_type": "error",
     "traceback": [
      "\u001b[1;31m---------------------------------------------------------------------------\u001b[0m",
      "\u001b[1;31mIndexError\u001b[0m                                Traceback (most recent call last)",
      "Cell \u001b[1;32mIn[20], line 5\u001b[0m\n\u001b[0;32m      3\u001b[0m \u001b[38;5;28mprint\u001b[39m(\u001b[38;5;124m\"\u001b[39m\u001b[38;5;124mUntrained test\u001b[39m\u001b[38;5;130;01m\\n\u001b[39;00m\u001b[38;5;124m--------\u001b[39m\u001b[38;5;124m\"\u001b[39m)\n\u001b[0;32m      4\u001b[0m start \u001b[38;5;241m=\u001b[39m time\u001b[38;5;241m.\u001b[39mtime()\n\u001b[1;32m----> 5\u001b[0m test_loss \u001b[38;5;241m=\u001b[39m \u001b[43mtest_model\u001b[49m\u001b[43m(\u001b[49m\u001b[43mtest_loader\u001b[49m\u001b[43m,\u001b[49m\u001b[43m \u001b[49m\u001b[43mQmodel\u001b[49m\u001b[43m,\u001b[49m\u001b[43m \u001b[49m\u001b[43mloss_function\u001b[49m\u001b[43m)\u001b[49m\n\u001b[0;32m      6\u001b[0m end \u001b[38;5;241m=\u001b[39m time\u001b[38;5;241m.\u001b[39mtime()\n\u001b[0;32m      7\u001b[0m \u001b[38;5;28mprint\u001b[39m(\u001b[38;5;124m\"\u001b[39m\u001b[38;5;124mExecution time\u001b[39m\u001b[38;5;124m\"\u001b[39m, end \u001b[38;5;241m-\u001b[39m start)\n",
      "Cell \u001b[1;32mIn[9], line 28\u001b[0m, in \u001b[0;36mtest_model\u001b[1;34m(data_loader, model, loss_function)\u001b[0m\n\u001b[0;32m     26\u001b[0m \u001b[38;5;28;01mwith\u001b[39;00m torch\u001b[38;5;241m.\u001b[39mno_grad():\n\u001b[0;32m     27\u001b[0m     \u001b[38;5;28;01mfor\u001b[39;00m X, y \u001b[38;5;129;01min\u001b[39;00m data_loader:\n\u001b[1;32m---> 28\u001b[0m         output \u001b[38;5;241m=\u001b[39m \u001b[43mmodel\u001b[49m\u001b[43m(\u001b[49m\u001b[43mX\u001b[49m\u001b[43m)\u001b[49m\n\u001b[0;32m     29\u001b[0m         total_loss \u001b[38;5;241m+\u001b[39m\u001b[38;5;241m=\u001b[39m loss_function(output, y)\u001b[38;5;241m.\u001b[39mitem()\n\u001b[0;32m     31\u001b[0m avg_loss \u001b[38;5;241m=\u001b[39m total_loss \u001b[38;5;241m/\u001b[39m num_batches\n",
      "File \u001b[1;32m~\\AppData\\Local\\Programs\\Python\\Python311\\Lib\\site-packages\\torch\\nn\\modules\\module.py:1501\u001b[0m, in \u001b[0;36mModule._call_impl\u001b[1;34m(self, *args, **kwargs)\u001b[0m\n\u001b[0;32m   1496\u001b[0m \u001b[38;5;66;03m# If we don't have any hooks, we want to skip the rest of the logic in\u001b[39;00m\n\u001b[0;32m   1497\u001b[0m \u001b[38;5;66;03m# this function, and just call forward.\u001b[39;00m\n\u001b[0;32m   1498\u001b[0m \u001b[38;5;28;01mif\u001b[39;00m \u001b[38;5;129;01mnot\u001b[39;00m (\u001b[38;5;28mself\u001b[39m\u001b[38;5;241m.\u001b[39m_backward_hooks \u001b[38;5;129;01mor\u001b[39;00m \u001b[38;5;28mself\u001b[39m\u001b[38;5;241m.\u001b[39m_backward_pre_hooks \u001b[38;5;129;01mor\u001b[39;00m \u001b[38;5;28mself\u001b[39m\u001b[38;5;241m.\u001b[39m_forward_hooks \u001b[38;5;129;01mor\u001b[39;00m \u001b[38;5;28mself\u001b[39m\u001b[38;5;241m.\u001b[39m_forward_pre_hooks\n\u001b[0;32m   1499\u001b[0m         \u001b[38;5;129;01mor\u001b[39;00m _global_backward_pre_hooks \u001b[38;5;129;01mor\u001b[39;00m _global_backward_hooks\n\u001b[0;32m   1500\u001b[0m         \u001b[38;5;129;01mor\u001b[39;00m _global_forward_hooks \u001b[38;5;129;01mor\u001b[39;00m _global_forward_pre_hooks):\n\u001b[1;32m-> 1501\u001b[0m     \u001b[38;5;28;01mreturn\u001b[39;00m \u001b[43mforward_call\u001b[49m\u001b[43m(\u001b[49m\u001b[38;5;241;43m*\u001b[39;49m\u001b[43margs\u001b[49m\u001b[43m,\u001b[49m\u001b[43m \u001b[49m\u001b[38;5;241;43m*\u001b[39;49m\u001b[38;5;241;43m*\u001b[39;49m\u001b[43mkwargs\u001b[49m\u001b[43m)\u001b[49m\n\u001b[0;32m   1502\u001b[0m \u001b[38;5;66;03m# Do not call functions when jit is used\u001b[39;00m\n\u001b[0;32m   1503\u001b[0m full_backward_hooks, non_full_backward_hooks \u001b[38;5;241m=\u001b[39m [], []\n",
      "File \u001b[1;32m~\\OneDrive\\Documents\\Projects\\Prediction of stock prices (QIC course proj)\\Factory.py:228\u001b[0m, in \u001b[0;36mQShallowRegressionLSTM.forward\u001b[1;34m(self, x)\u001b[0m\n\u001b[0;32m    225\u001b[0m h0 \u001b[38;5;241m=\u001b[39m torch\u001b[38;5;241m.\u001b[39mzeros(\u001b[38;5;28mself\u001b[39m\u001b[38;5;241m.\u001b[39mnum_layers, batch_size, \u001b[38;5;28mself\u001b[39m\u001b[38;5;241m.\u001b[39mhidden_units)\u001b[38;5;241m.\u001b[39mrequires_grad_()\n\u001b[0;32m    226\u001b[0m c0 \u001b[38;5;241m=\u001b[39m torch\u001b[38;5;241m.\u001b[39mzeros(\u001b[38;5;28mself\u001b[39m\u001b[38;5;241m.\u001b[39mnum_layers, batch_size, \u001b[38;5;28mself\u001b[39m\u001b[38;5;241m.\u001b[39mhidden_units)\u001b[38;5;241m.\u001b[39mrequires_grad_()\n\u001b[1;32m--> 228\u001b[0m _, (hn, _) \u001b[38;5;241m=\u001b[39m \u001b[38;5;28;43mself\u001b[39;49m\u001b[38;5;241;43m.\u001b[39;49m\u001b[43mlstm\u001b[49m\u001b[43m(\u001b[49m\u001b[43mx\u001b[49m\u001b[43m,\u001b[49m\u001b[43m \u001b[49m\u001b[43m(\u001b[49m\u001b[43mh0\u001b[49m\u001b[43m,\u001b[49m\u001b[43m \u001b[49m\u001b[43mc0\u001b[49m\u001b[43m)\u001b[49m\u001b[43m)\u001b[49m\n\u001b[0;32m    229\u001b[0m out \u001b[38;5;241m=\u001b[39m \u001b[38;5;28mself\u001b[39m\u001b[38;5;241m.\u001b[39mlinear(hn)\u001b[38;5;241m.\u001b[39mflatten()  \u001b[38;5;66;03m# First dim of Hn is num_layers, which is set to 1 above.\u001b[39;00m\n\u001b[0;32m    231\u001b[0m \u001b[38;5;28;01mreturn\u001b[39;00m out\n",
      "File \u001b[1;32m~\\AppData\\Local\\Programs\\Python\\Python311\\Lib\\site-packages\\torch\\nn\\modules\\module.py:1501\u001b[0m, in \u001b[0;36mModule._call_impl\u001b[1;34m(self, *args, **kwargs)\u001b[0m\n\u001b[0;32m   1496\u001b[0m \u001b[38;5;66;03m# If we don't have any hooks, we want to skip the rest of the logic in\u001b[39;00m\n\u001b[0;32m   1497\u001b[0m \u001b[38;5;66;03m# this function, and just call forward.\u001b[39;00m\n\u001b[0;32m   1498\u001b[0m \u001b[38;5;28;01mif\u001b[39;00m \u001b[38;5;129;01mnot\u001b[39;00m (\u001b[38;5;28mself\u001b[39m\u001b[38;5;241m.\u001b[39m_backward_hooks \u001b[38;5;129;01mor\u001b[39;00m \u001b[38;5;28mself\u001b[39m\u001b[38;5;241m.\u001b[39m_backward_pre_hooks \u001b[38;5;129;01mor\u001b[39;00m \u001b[38;5;28mself\u001b[39m\u001b[38;5;241m.\u001b[39m_forward_hooks \u001b[38;5;129;01mor\u001b[39;00m \u001b[38;5;28mself\u001b[39m\u001b[38;5;241m.\u001b[39m_forward_pre_hooks\n\u001b[0;32m   1499\u001b[0m         \u001b[38;5;129;01mor\u001b[39;00m _global_backward_pre_hooks \u001b[38;5;129;01mor\u001b[39;00m _global_backward_hooks\n\u001b[0;32m   1500\u001b[0m         \u001b[38;5;129;01mor\u001b[39;00m _global_forward_hooks \u001b[38;5;129;01mor\u001b[39;00m _global_forward_pre_hooks):\n\u001b[1;32m-> 1501\u001b[0m     \u001b[38;5;28;01mreturn\u001b[39;00m \u001b[43mforward_call\u001b[49m\u001b[43m(\u001b[49m\u001b[38;5;241;43m*\u001b[39;49m\u001b[43margs\u001b[49m\u001b[43m,\u001b[49m\u001b[43m \u001b[49m\u001b[38;5;241;43m*\u001b[39;49m\u001b[38;5;241;43m*\u001b[39;49m\u001b[43mkwargs\u001b[49m\u001b[43m)\u001b[49m\n\u001b[0;32m   1502\u001b[0m \u001b[38;5;66;03m# Do not call functions when jit is used\u001b[39;00m\n\u001b[0;32m   1503\u001b[0m full_backward_hooks, non_full_backward_hooks \u001b[38;5;241m=\u001b[39m [], []\n",
      "File \u001b[1;32m~\\OneDrive\\Documents\\Projects\\Prediction of stock prices (QIC course proj)\\Factory.py:186\u001b[0m, in \u001b[0;36mQLSTM.forward\u001b[1;34m(self, x, init_states)\u001b[0m\n\u001b[0;32m    183\u001b[0m \u001b[38;5;66;03m# match qubit dimension\u001b[39;00m\n\u001b[0;32m    184\u001b[0m y_t \u001b[38;5;241m=\u001b[39m \u001b[38;5;28mself\u001b[39m\u001b[38;5;241m.\u001b[39mclayer_in(v_t)\n\u001b[1;32m--> 186\u001b[0m f_t \u001b[38;5;241m=\u001b[39m torch\u001b[38;5;241m.\u001b[39msigmoid(\u001b[38;5;28mself\u001b[39m\u001b[38;5;241m.\u001b[39mclayer_out(\u001b[38;5;28;43mself\u001b[39;49m\u001b[38;5;241;43m.\u001b[39;49m\u001b[43mVQC\u001b[49m\u001b[43m[\u001b[49m\u001b[38;5;124;43m'\u001b[39;49m\u001b[38;5;124;43mforget\u001b[39;49m\u001b[38;5;124;43m'\u001b[39;49m\u001b[43m]\u001b[49m\u001b[43m(\u001b[49m\u001b[43my_t\u001b[49m\u001b[43m)\u001b[49m))  \u001b[38;5;66;03m# forget block\u001b[39;00m\n\u001b[0;32m    187\u001b[0m i_t \u001b[38;5;241m=\u001b[39m torch\u001b[38;5;241m.\u001b[39msigmoid(\u001b[38;5;28mself\u001b[39m\u001b[38;5;241m.\u001b[39mclayer_out(\u001b[38;5;28mself\u001b[39m\u001b[38;5;241m.\u001b[39mVQC[\u001b[38;5;124m'\u001b[39m\u001b[38;5;124minput\u001b[39m\u001b[38;5;124m'\u001b[39m](y_t)))  \u001b[38;5;66;03m# input block\u001b[39;00m\n\u001b[0;32m    188\u001b[0m g_t \u001b[38;5;241m=\u001b[39m torch\u001b[38;5;241m.\u001b[39mtanh(\u001b[38;5;28mself\u001b[39m\u001b[38;5;241m.\u001b[39mclayer_out(\u001b[38;5;28mself\u001b[39m\u001b[38;5;241m.\u001b[39mVQC[\u001b[38;5;124m'\u001b[39m\u001b[38;5;124mupdate\u001b[39m\u001b[38;5;124m'\u001b[39m](y_t)))  \u001b[38;5;66;03m# update block\u001b[39;00m\n",
      "File \u001b[1;32m~\\AppData\\Local\\Programs\\Python\\Python311\\Lib\\site-packages\\torch\\nn\\modules\\module.py:1501\u001b[0m, in \u001b[0;36mModule._call_impl\u001b[1;34m(self, *args, **kwargs)\u001b[0m\n\u001b[0;32m   1496\u001b[0m \u001b[38;5;66;03m# If we don't have any hooks, we want to skip the rest of the logic in\u001b[39;00m\n\u001b[0;32m   1497\u001b[0m \u001b[38;5;66;03m# this function, and just call forward.\u001b[39;00m\n\u001b[0;32m   1498\u001b[0m \u001b[38;5;28;01mif\u001b[39;00m \u001b[38;5;129;01mnot\u001b[39;00m (\u001b[38;5;28mself\u001b[39m\u001b[38;5;241m.\u001b[39m_backward_hooks \u001b[38;5;129;01mor\u001b[39;00m \u001b[38;5;28mself\u001b[39m\u001b[38;5;241m.\u001b[39m_backward_pre_hooks \u001b[38;5;129;01mor\u001b[39;00m \u001b[38;5;28mself\u001b[39m\u001b[38;5;241m.\u001b[39m_forward_hooks \u001b[38;5;129;01mor\u001b[39;00m \u001b[38;5;28mself\u001b[39m\u001b[38;5;241m.\u001b[39m_forward_pre_hooks\n\u001b[0;32m   1499\u001b[0m         \u001b[38;5;129;01mor\u001b[39;00m _global_backward_pre_hooks \u001b[38;5;129;01mor\u001b[39;00m _global_backward_hooks\n\u001b[0;32m   1500\u001b[0m         \u001b[38;5;129;01mor\u001b[39;00m _global_forward_hooks \u001b[38;5;129;01mor\u001b[39;00m _global_forward_pre_hooks):\n\u001b[1;32m-> 1501\u001b[0m     \u001b[38;5;28;01mreturn\u001b[39;00m \u001b[43mforward_call\u001b[49m\u001b[43m(\u001b[49m\u001b[38;5;241;43m*\u001b[39;49m\u001b[43margs\u001b[49m\u001b[43m,\u001b[49m\u001b[43m \u001b[49m\u001b[38;5;241;43m*\u001b[39;49m\u001b[38;5;241;43m*\u001b[39;49m\u001b[43mkwargs\u001b[49m\u001b[43m)\u001b[49m\n\u001b[0;32m   1502\u001b[0m \u001b[38;5;66;03m# Do not call functions when jit is used\u001b[39;00m\n\u001b[0;32m   1503\u001b[0m full_backward_hooks, non_full_backward_hooks \u001b[38;5;241m=\u001b[39m [], []\n",
      "File \u001b[1;32m~\\AppData\\Local\\Programs\\Python\\Python311\\Lib\\site-packages\\pennylane\\qnn\\torch.py:408\u001b[0m, in \u001b[0;36mTorchLayer.forward\u001b[1;34m(self, inputs)\u001b[0m\n\u001b[0;32m    405\u001b[0m     results \u001b[38;5;241m=\u001b[39m torch\u001b[38;5;241m.\u001b[39mstack(reconstructor)\n\u001b[0;32m    406\u001b[0m \u001b[38;5;28;01melse\u001b[39;00m:\n\u001b[0;32m    407\u001b[0m     \u001b[38;5;66;03m# calculate the forward pass as usual\u001b[39;00m\n\u001b[1;32m--> 408\u001b[0m     results \u001b[38;5;241m=\u001b[39m \u001b[38;5;28;43mself\u001b[39;49m\u001b[38;5;241;43m.\u001b[39;49m\u001b[43m_evaluate_qnode\u001b[49m\u001b[43m(\u001b[49m\u001b[43minputs\u001b[49m\u001b[43m)\u001b[49m\n\u001b[0;32m    410\u001b[0m \u001b[38;5;66;03m# reshape to the correct number of batch dims\u001b[39;00m\n\u001b[0;32m    411\u001b[0m \u001b[38;5;28;01mif\u001b[39;00m has_batch_dim:\n",
      "File \u001b[1;32m~\\AppData\\Local\\Programs\\Python\\Python311\\Lib\\site-packages\\pennylane\\qnn\\torch.py:429\u001b[0m, in \u001b[0;36mTorchLayer._evaluate_qnode\u001b[1;34m(self, x)\u001b[0m\n\u001b[0;32m    417\u001b[0m \u001b[38;5;250m\u001b[39m\u001b[38;5;124;03m\"\"\"Evaluates the QNode for a single input datapoint.\u001b[39;00m\n\u001b[0;32m    418\u001b[0m \n\u001b[0;32m    419\u001b[0m \u001b[38;5;124;03mArgs:\u001b[39;00m\n\u001b[1;32m   (...)\u001b[0m\n\u001b[0;32m    423\u001b[0m \u001b[38;5;124;03m    tensor: output datapoint\u001b[39;00m\n\u001b[0;32m    424\u001b[0m \u001b[38;5;124;03m\"\"\"\u001b[39;00m\n\u001b[0;32m    425\u001b[0m kwargs \u001b[38;5;241m=\u001b[39m {\n\u001b[0;32m    426\u001b[0m     \u001b[38;5;241m*\u001b[39m\u001b[38;5;241m*\u001b[39m{\u001b[38;5;28mself\u001b[39m\u001b[38;5;241m.\u001b[39minput_arg: x},\n\u001b[0;32m    427\u001b[0m     \u001b[38;5;241m*\u001b[39m\u001b[38;5;241m*\u001b[39m{arg: weight\u001b[38;5;241m.\u001b[39mto(x) \u001b[38;5;28;01mfor\u001b[39;00m arg, weight \u001b[38;5;129;01min\u001b[39;00m \u001b[38;5;28mself\u001b[39m\u001b[38;5;241m.\u001b[39mqnode_weights\u001b[38;5;241m.\u001b[39mitems()},\n\u001b[0;32m    428\u001b[0m }\n\u001b[1;32m--> 429\u001b[0m res \u001b[38;5;241m=\u001b[39m \u001b[38;5;28;43mself\u001b[39;49m\u001b[38;5;241;43m.\u001b[39;49m\u001b[43mqnode\u001b[49m\u001b[43m(\u001b[49m\u001b[38;5;241;43m*\u001b[39;49m\u001b[38;5;241;43m*\u001b[39;49m\u001b[43mkwargs\u001b[49m\u001b[43m)\u001b[49m\n\u001b[0;32m    431\u001b[0m \u001b[38;5;28;01mif\u001b[39;00m \u001b[38;5;28misinstance\u001b[39m(res, torch\u001b[38;5;241m.\u001b[39mTensor):\n\u001b[0;32m    432\u001b[0m     \u001b[38;5;28;01mreturn\u001b[39;00m res\u001b[38;5;241m.\u001b[39mtype(x\u001b[38;5;241m.\u001b[39mdtype)\n",
      "File \u001b[1;32m~\\AppData\\Local\\Programs\\Python\\Python311\\Lib\\site-packages\\pennylane\\qnode.py:974\u001b[0m, in \u001b[0;36mQNode.__call__\u001b[1;34m(self, *args, **kwargs)\u001b[0m\n\u001b[0;32m    971\u001b[0m         kwargs[\u001b[38;5;124m\"\u001b[39m\u001b[38;5;124mshots\u001b[39m\u001b[38;5;124m\"\u001b[39m] \u001b[38;5;241m=\u001b[39m _get_device_shots(\u001b[38;5;28mself\u001b[39m\u001b[38;5;241m.\u001b[39m_original_device)\n\u001b[0;32m    973\u001b[0m \u001b[38;5;66;03m# construct the tape\u001b[39;00m\n\u001b[1;32m--> 974\u001b[0m \u001b[38;5;28;43mself\u001b[39;49m\u001b[38;5;241;43m.\u001b[39;49m\u001b[43mconstruct\u001b[49m\u001b[43m(\u001b[49m\u001b[43margs\u001b[49m\u001b[43m,\u001b[49m\u001b[43m \u001b[49m\u001b[43mkwargs\u001b[49m\u001b[43m)\u001b[49m\n\u001b[0;32m    976\u001b[0m cache \u001b[38;5;241m=\u001b[39m \u001b[38;5;28mself\u001b[39m\u001b[38;5;241m.\u001b[39mexecute_kwargs\u001b[38;5;241m.\u001b[39mget(\u001b[38;5;124m\"\u001b[39m\u001b[38;5;124mcache\u001b[39m\u001b[38;5;124m\"\u001b[39m, \u001b[38;5;28;01mFalse\u001b[39;00m)\n\u001b[0;32m    977\u001b[0m using_custom_cache \u001b[38;5;241m=\u001b[39m (\n\u001b[0;32m    978\u001b[0m     \u001b[38;5;28mhasattr\u001b[39m(cache, \u001b[38;5;124m\"\u001b[39m\u001b[38;5;124m__getitem__\u001b[39m\u001b[38;5;124m\"\u001b[39m)\n\u001b[0;32m    979\u001b[0m     \u001b[38;5;129;01mand\u001b[39;00m \u001b[38;5;28mhasattr\u001b[39m(cache, \u001b[38;5;124m\"\u001b[39m\u001b[38;5;124m__setitem__\u001b[39m\u001b[38;5;124m\"\u001b[39m)\n\u001b[0;32m    980\u001b[0m     \u001b[38;5;129;01mand\u001b[39;00m \u001b[38;5;28mhasattr\u001b[39m(cache, \u001b[38;5;124m\"\u001b[39m\u001b[38;5;124m__delitem__\u001b[39m\u001b[38;5;124m\"\u001b[39m)\n\u001b[0;32m    981\u001b[0m )\n",
      "File \u001b[1;32m~\\AppData\\Local\\Programs\\Python\\Python311\\Lib\\site-packages\\pennylane\\qnode.py:872\u001b[0m, in \u001b[0;36mQNode.construct\u001b[1;34m(self, args, kwargs)\u001b[0m\n\u001b[0;32m    869\u001b[0m \u001b[38;5;28;01mif\u001b[39;00m old_interface \u001b[38;5;241m==\u001b[39m \u001b[38;5;124m\"\u001b[39m\u001b[38;5;124mauto\u001b[39m\u001b[38;5;124m\"\u001b[39m:\n\u001b[0;32m    870\u001b[0m     \u001b[38;5;28mself\u001b[39m\u001b[38;5;241m.\u001b[39minterface \u001b[38;5;241m=\u001b[39m qml\u001b[38;5;241m.\u001b[39mmath\u001b[38;5;241m.\u001b[39mget_interface(\u001b[38;5;241m*\u001b[39margs, \u001b[38;5;241m*\u001b[39m\u001b[38;5;28mlist\u001b[39m(kwargs\u001b[38;5;241m.\u001b[39mvalues()))\n\u001b[1;32m--> 872\u001b[0m \u001b[38;5;28mself\u001b[39m\u001b[38;5;241m.\u001b[39m_tape \u001b[38;5;241m=\u001b[39m \u001b[43mmake_qscript\u001b[49m\u001b[43m(\u001b[49m\u001b[38;5;28;43mself\u001b[39;49m\u001b[38;5;241;43m.\u001b[39;49m\u001b[43mfunc\u001b[49m\u001b[43m,\u001b[49m\u001b[43m \u001b[49m\u001b[43mshots\u001b[49m\u001b[43m)\u001b[49m\u001b[43m(\u001b[49m\u001b[38;5;241;43m*\u001b[39;49m\u001b[43margs\u001b[49m\u001b[43m,\u001b[49m\u001b[43m \u001b[49m\u001b[38;5;241;43m*\u001b[39;49m\u001b[38;5;241;43m*\u001b[39;49m\u001b[43mkwargs\u001b[49m\u001b[43m)\u001b[49m\n\u001b[0;32m    873\u001b[0m \u001b[38;5;28mself\u001b[39m\u001b[38;5;241m.\u001b[39m_qfunc_output \u001b[38;5;241m=\u001b[39m \u001b[38;5;28mself\u001b[39m\u001b[38;5;241m.\u001b[39mtape\u001b[38;5;241m.\u001b[39m_qfunc_output\n\u001b[0;32m    875\u001b[0m params \u001b[38;5;241m=\u001b[39m \u001b[38;5;28mself\u001b[39m\u001b[38;5;241m.\u001b[39mtape\u001b[38;5;241m.\u001b[39mget_parameters(trainable_only\u001b[38;5;241m=\u001b[39m\u001b[38;5;28;01mFalse\u001b[39;00m)\n",
      "File \u001b[1;32m~\\AppData\\Local\\Programs\\Python\\Python311\\Lib\\site-packages\\pennylane\\tape\\qscript.py:1531\u001b[0m, in \u001b[0;36mmake_qscript.<locals>.wrapper\u001b[1;34m(*args, **kwargs)\u001b[0m\n\u001b[0;32m   1529\u001b[0m \u001b[38;5;28;01mdef\u001b[39;00m \u001b[38;5;21mwrapper\u001b[39m(\u001b[38;5;241m*\u001b[39margs, \u001b[38;5;241m*\u001b[39m\u001b[38;5;241m*\u001b[39mkwargs):\n\u001b[0;32m   1530\u001b[0m     \u001b[38;5;28;01mwith\u001b[39;00m AnnotatedQueue() \u001b[38;5;28;01mas\u001b[39;00m q:\n\u001b[1;32m-> 1531\u001b[0m         result \u001b[38;5;241m=\u001b[39m \u001b[43mfn\u001b[49m\u001b[43m(\u001b[49m\u001b[38;5;241;43m*\u001b[39;49m\u001b[43margs\u001b[49m\u001b[43m,\u001b[49m\u001b[43m \u001b[49m\u001b[38;5;241;43m*\u001b[39;49m\u001b[38;5;241;43m*\u001b[39;49m\u001b[43mkwargs\u001b[49m\u001b[43m)\u001b[49m\n\u001b[0;32m   1533\u001b[0m     qscript \u001b[38;5;241m=\u001b[39m QuantumScript\u001b[38;5;241m.\u001b[39mfrom_queue(q, shots)\n\u001b[0;32m   1534\u001b[0m     qscript\u001b[38;5;241m.\u001b[39m_qfunc_output \u001b[38;5;241m=\u001b[39m result\n",
      "File \u001b[1;32m~\\OneDrive\\Documents\\Projects\\Prediction of stock prices (QIC course proj)\\Factory.py:122\u001b[0m, in \u001b[0;36mQLSTM.__init__.<locals>._circuit_forget\u001b[1;34m(inputs, weights)\u001b[0m\n\u001b[0;32m    121\u001b[0m \u001b[38;5;28;01mdef\u001b[39;00m \u001b[38;5;21m_circuit_forget\u001b[39m(inputs, weights):\n\u001b[1;32m--> 122\u001b[0m     \u001b[43mVQC\u001b[49m\u001b[43m(\u001b[49m\u001b[43minputs\u001b[49m\u001b[43m,\u001b[49m\u001b[43m \u001b[49m\u001b[43mweights\u001b[49m\u001b[43m,\u001b[49m\u001b[43m \u001b[49m\u001b[38;5;28;43mself\u001b[39;49m\u001b[38;5;241;43m.\u001b[39;49m\u001b[43mwires_forget\u001b[49m\u001b[43m)\u001b[49m\n\u001b[0;32m    123\u001b[0m     \u001b[38;5;28;01mreturn\u001b[39;00m [qml\u001b[38;5;241m.\u001b[39mexpval(qml\u001b[38;5;241m.\u001b[39mPauliZ(wires\u001b[38;5;241m=\u001b[39mi)) \u001b[38;5;28;01mfor\u001b[39;00m i \u001b[38;5;129;01min\u001b[39;00m \u001b[38;5;28mself\u001b[39m\u001b[38;5;241m.\u001b[39mwires_forget]\n",
      "File \u001b[1;32m~\\OneDrive\\Documents\\Projects\\Prediction of stock prices (QIC course proj)\\Factory.py:115\u001b[0m, in \u001b[0;36mQLSTM.__init__.<locals>.VQC\u001b[1;34m(features, weights, wires_type)\u001b[0m\n\u001b[0;32m    113\u001b[0m \u001b[38;5;28;01mfor\u001b[39;00m i \u001b[38;5;129;01min\u001b[39;00m \u001b[38;5;28mrange\u001b[39m(\u001b[38;5;28mself\u001b[39m\u001b[38;5;241m.\u001b[39mn_qubits):\n\u001b[0;32m    114\u001b[0m     qml\u001b[38;5;241m.\u001b[39mHadamard(wires\u001b[38;5;241m=\u001b[39mwires_type[i])\n\u001b[1;32m--> 115\u001b[0m     qml\u001b[38;5;241m.\u001b[39mRY(\u001b[43mry_params\u001b[49m\u001b[43m[\u001b[49m\u001b[43mi\u001b[49m\u001b[43m]\u001b[49m, wires\u001b[38;5;241m=\u001b[39mwires_type[i])\n\u001b[0;32m    116\u001b[0m     qml\u001b[38;5;241m.\u001b[39mRZ(rz_params[i], wires\u001b[38;5;241m=\u001b[39mwires_type[i])\n\u001b[0;32m    118\u001b[0m \u001b[38;5;66;03m#Variational block.\u001b[39;00m\n",
      "\u001b[1;31mIndexError\u001b[0m: list index out of range"
     ]
    }
   ],
   "source": [
    "quantum_loss_train = []\n",
    "quantum_loss_test = []\n",
    "print(\"Untrained test\\n--------\")\n",
    "start = time.time()\n",
    "test_loss = test_model(test_loader, Qmodel, loss_function)\n",
    "end = time.time()\n",
    "print(\"Execution time\", end - start)\n",
    "quantum_loss_test.append(test_loss)\n",
    "\n",
    "for ix_epoch in range(20):\n",
    "    print(f\"Epoch {ix_epoch}\\n---------\")\n",
    "    start = time.time()\n",
    "    train_loss = train_model(train_loader, Qmodel, loss_function, optimizer=optimizer)\n",
    "    test_loss = test_model(test_loader, Qmodel, loss_function)\n",
    "    end = time.time()\n",
    "    print(\"Execution time\", end - start)\n",
    "    quantum_loss_train.append(train_loss)\n",
    "    quantum_loss_test.append(test_loss)"
   ]
  },
  {
   "cell_type": "code",
   "execution_count": null,
   "id": "3db0a1a9",
   "metadata": {},
   "outputs": [],
   "source": [
    "train_eval_loader = DataLoader(train_dataset, batch_size=batch_size, shuffle=False)\n",
    "\n",
    "ystar_col_Q = \"Model forecast\"\n",
    "df_train[ystar_col_Q] = predict(train_eval_loader, Qmodel).numpy()\n",
    "df_test[ystar_col_Q] = predict(test_loader, Qmodel).numpy()\n",
    "\n",
    "df_out_Q = pd.concat((df_train, df_test))[[target, ystar_col_Q]]\n",
    "\n",
    "for c in df_out_Q.columns:\n",
    "    df_out_Q[c] = df_out_Q[c] * target_stdev + target_mean\n",
    "\n",
    "print(df_out_Q)"
   ]
  },
  {
   "cell_type": "code",
   "execution_count": null,
   "id": "b194cfa2",
   "metadata": {},
   "outputs": [],
   "source": [
    "plt.figure(figsize=(12, 7))\n",
    "plt.plot(range(2718), df_out_Q[\"Close_lead1\"], label = \"Real\")\n",
    "plt.plot(range(2718), df_out_Q[\"Model forecast\"], label = \"QLSTM Prediction\")\n",
    "plt.ylabel('Stock Price')\n",
    "plt.xlabel('Days')\n",
    "plt.vlines(size, ymin = 30, ymax = 90, label = \"Test set start\", linestyles = \"dashed\")\n",
    "plt.legend()\n",
    "plt.show()"
   ]
  },
  {
   "cell_type": "code",
   "execution_count": null,
   "id": "0ea7b23a",
   "metadata": {},
   "outputs": [],
   "source": [
    "plt.figure(figsize=(8, 6))\n",
    "plt.plot(range(21), quantum_loss_test)\n",
    "plt.ylabel('Test Loss')\n",
    "plt.xlabel('Epoch')\n",
    "plt.show()"
   ]
  },
  {
   "cell_type": "code",
   "execution_count": null,
   "id": "b786881d",
   "metadata": {},
   "outputs": [],
   "source": [
    "plt.figure(figsize=(8, 6))\n",
    "plt.plot(range(1,21), quantum_loss_train)\n",
    "plt.ylabel('Test Loss')\n",
    "plt.xlabel('Epoch')\n",
    "plt.show()"
   ]
  },
  {
   "cell_type": "markdown",
   "id": "ed836318",
   "metadata": {},
   "source": [
    "# Comparison between Classical LSTM and QLSTM"
   ]
  },
  {
   "cell_type": "markdown",
   "id": "a0f9aa2a",
   "metadata": {},
   "source": [
    "Now that we have trained both models and seen some preliminary results on both of them, we want to properly compare the results on the same graph to see how they perform against each other. To do so, we compare them in the following manner:\n",
    "\n",
    "- Compare the predictions of the models\n",
    "- Compare the loss per epoch for both training and test loss\n",
    "- Discuss Complexity analysis, and compare number of parameters"
   ]
  },
  {
   "cell_type": "markdown",
   "id": "b71165db",
   "metadata": {},
   "source": [
    "## Comparison of predictions"
   ]
  },
  {
   "cell_type": "code",
   "execution_count": null,
   "id": "3158989d",
   "metadata": {},
   "outputs": [],
   "source": [
    "plt.figure(figsize=(12, 7))\n",
    "plt.plot(range(2718), df_out[\"Close_lead1\"], label = \"Real\")\n",
    "plt.plot(range(2718), df_out[\"Model forecast\"], label = \"LSTM\")\n",
    "plt.plot(range(2718), df_out_Q[\"Model forecast\"], label = \"QLSTM\")\n",
    "plt.ylabel('Stock Price')\n",
    "plt.xlabel('Days')\n",
    "plt.vlines(size, ymin = 30, ymax = 90, label = \"Test set start\", linestyles = \"dashed\")\n",
    "plt.legend()\n",
    "plt.show()"
   ]
  },
  {
   "cell_type": "markdown",
   "id": "78d227f2",
   "metadata": {},
   "source": [
    "As we can see from the graph, both the LSTM and QLSTM give comparable results. Both manage to predict the training set extremely well, and for a while after the start of the test set, they give extremely accurate predictions for a long period before starting to diverge from the real values. Furthermore, despite their divergence from it, they both still managed to capture some parts of the variation."
   ]
  },
  {
   "cell_type": "markdown",
   "id": "3469c6b9",
   "metadata": {},
   "source": [
    "## Comparison of evolution of loss values"
   ]
  },
  {
   "cell_type": "markdown",
   "id": "64c8f5b6",
   "metadata": {},
   "source": [
    "Next, we want to compare the evolution of the loss values by epoch.\n",
    "\n",
    "First, we compare the evolution of the train loss."
   ]
  },
  {
   "cell_type": "code",
   "execution_count": null,
   "id": "fc7b690c",
   "metadata": {},
   "outputs": [],
   "source": [
    "plt.figure(figsize=(8, 6))\n",
    "plt.plot(range(1,21), classical_loss_train, label = \"LSTM\")\n",
    "plt.plot(range(1,21), quantum_loss_train, label = \"QLSTM\")\n",
    "plt.ylabel('Train Loss')\n",
    "plt.xlabel('Epoch')\n",
    "plt.legend()\n",
    "plt.show()"
   ]
  },
  {
   "cell_type": "markdown",
   "id": "3401d2fb",
   "metadata": {},
   "source": [
    "We see that QLSTM learns much more information in the first few epochs as compared to LSTM, and that the results converge much faster as compared to its classical counterpart, although they both eventually converge to a suitably low value. This shows its improved trainability."
   ]
  },
  {
   "cell_type": "code",
   "execution_count": null,
   "id": "9aed6a72",
   "metadata": {},
   "outputs": [],
   "source": [
    "plt.figure(figsize=(12, 7))\n",
    "plt.plot(range(21), classical_loss_test, label = \"LSTM\")\n",
    "plt.plot(range(21), quantum_loss_test, label = \"QLSTM\")\n",
    "plt.ylabel('Test Loss')\n",
    "plt.xlabel('Epoch')\n",
    "plt.legend()\n",
    "plt.show()"
   ]
  },
  {
   "cell_type": "markdown",
   "id": "598dc333",
   "metadata": {},
   "source": [
    "Similar to the training loss, we can see that for the test loss, QLSTM learns much more information in the first few epochs as compared to LSTM as well, and converges to a lower value much faster. Even more admirably, the QLSTM converges to an even lower test loss compared to the LSTM, speaking again to its improved trainability, although as can be seen from the results of the predictions that the predictions are still fairly comparable."
   ]
  },
  {
   "cell_type": "markdown",
   "id": "27dd6d6e",
   "metadata": {},
   "source": [
    "## Complexity analysis"
   ]
  },
  {
   "cell_type": "markdown",
   "id": "8f1b6666",
   "metadata": {},
   "source": [
    "For the final point of comparison, we discuss the complexity analysis for the QLSTM, as well as compare the number of parameters used for the LSTM and the QLSTM.\n",
    "\n",
    "Our goal is to eventually use the QLSTM on real quantum computers, so it would be prudent to discuss its viability in terms of the number of gates and qubits required. Firstly, we discuss the number of qubits. As found in early version of QLSTM, we can use small number of qubits, for instance 4, since we can sandwich LSTM between two classical layers, where the classical layers help to convert the vector sizes to the correct amount, from the embedding of input features into the quantum circuit to the processing of the output measurements. This idea is similar to dressed quantum circuits presented in:\n",
    "\n",
    "Transfer learning in hybrid classical-quantum neural networks: https://arxiv.org/abs/1912.08278, Andrea Mari, Thomas R. Bromley, Josh Izaac, Maria Schuld, Nathan Killoran\n",
    "\n",
    "In the foreseeable future in the NISQ era, we would likely continue to use the same technique, although the number of qubits can be increased to improve the model.\n",
    "\n",
    "Regarding the number of gates used per circuit, we study that the overall depth increases with increase in number of qubits and number of layers. As shown in the above circuit, the overall depth is $3 + n_l * (2 * n_q + 3)$, where $n_l, n_q$ refers to the number of layers and number of qubits respectively. Thus, the overall depth would increase linearly in both number of qubits and number of layers. Consequently, depth is easy to control, and thus viable for the NISQ era. In this particular proof of example, we show that even when the number of layers is 1 (the smallest it can be) and the number of qubits is small, we still get good results. \n",
    "\n",
    "Finally we want to compare the number of parameters used:"
   ]
  },
  {
   "cell_type": "code",
   "execution_count": null,
   "id": "6107d65f",
   "metadata": {},
   "outputs": [],
   "source": [
    "total_params = sum(p.numel() for p in model.parameters() if p.requires_grad)\n",
    "total_params_Q = sum(p.numel() for p in Qmodel.parameters() if p.requires_grad)\n",
    "\n",
    "print(\"No. of parameters for Classical LSTM: \", total_params)\n",
    "print(\"No. of parameters for QLSTM: \", total_params_Q)"
   ]
  },
  {
   "cell_type": "markdown",
   "id": "08012032",
   "metadata": {},
   "source": [
    "The native PyTorch implementation of LSTM uses a huge number of parameters for training, while QLSTM uses comparatively much fewer. This shows the advantage in trainability that QLSTM has over LSTM, where a smaller number of parameters is needed."
   ]
  },
  {
   "cell_type": "markdown",
   "id": "6f090b26",
   "metadata": {},
   "source": [
    "# Conclusion and Future Outlook"
   ]
  },
  {
   "cell_type": "markdown",
   "id": "a8cb4167",
   "metadata": {},
   "source": [
    "In this notebook, we have given the proof of concept that QLSTM can be used to great effect for stock price prediction, offering comparable results than its classical counterpart, while requiring significantly fewer parameters to train and getting more information per epoch. This shows that this technique has potential in the financial world since any time series data can be trained using an LSTM and hence also a QLSTM. This is relevant not only to stock price predictions, but also for example company sales predictions or other key performance predictions. However, there are still many areas for improvement."
   ]
  },
  {
   "cell_type": "markdown",
   "id": "60419dd5",
   "metadata": {},
   "source": [
    "<b> Improvements on the current model </b>\n",
    "    \n",
    "From this submission, we can also see that we have been using fairly bare bones neural network techniques, like setting a fixed learning rate, using a huge number of features, and  a small sequence length. Studies have shown that setting a learning rate scheduler improves the trainability of the model; feature selection is also a key part of data management for machine leanring; and the small sequence length was chosen in interest of time. Even in the current model, although the current decisions we made provides a good proof of concept, there are many areas for improvement, so we intend to implement those improvements in the future. "
   ]
  },
  {
   "cell_type": "markdown",
   "id": "c63ed817",
   "metadata": {},
   "source": [
    "<b> Moving from LSTM to GANs </b>\n",
    "    \n",
    "As aforementioned, our work was inspired by the study using BERT and GANs to predict stock prices. In the study, the authors use LSTM as the generator in the GAN, which motivated us to use LSTM and improve on LSTM to QLSTM in this submission.\n",
    "\n",
    "Furthermore, that paper showed that the GAN which used LSTM as a generator was better than merely using LSTM, which gives us a direction to work in for the future. Eventually, we want to move from a simple QLSTM model to a QGAN model which uses QLSTM as the generator, expanding on the current set of literature on QGANs.  We can get a better model for stock price prediction with the implementation of QGANs, and so we intend to proceed in that direction of research."
   ]
  },
  {
   "cell_type": "markdown",
   "id": "cc3a4645",
   "metadata": {},
   "source": [
    "<b> Caveats </b>\n",
    "\n",
    "One might argue that the loss decreased a lot faster for QLSTM in comparison with LSTM  due to  different learning rates that we set. However, when experimenting with some of the higher learning rates for the classical LSTM, the result was unable to reach local minimum. We chose this learning rate as it reliably gave accurate results without the issue of convergence. We acknowledge that the result might improve with learning rate scheduler, however the same can be argued for QLSTM, hence we would have to await further experimentation for any conlusion on that argument."
   ]
  }
 ],
 "metadata": {
  "kernelspec": {
   "display_name": "Python 3 (ipykernel)",
   "language": "python",
   "name": "python3"
  },
  "language_info": {
   "codemirror_mode": {
    "name": "ipython",
    "version": 3
   },
   "file_extension": ".py",
   "mimetype": "text/x-python",
   "name": "python",
   "nbconvert_exporter": "python",
   "pygments_lexer": "ipython3",
   "version": "3.11.4"
  }
 },
 "nbformat": 4,
 "nbformat_minor": 5
}
